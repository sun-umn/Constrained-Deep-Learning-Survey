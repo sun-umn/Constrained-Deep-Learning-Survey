{
 "cells": [
  {
   "cell_type": "code",
   "execution_count": null,
   "id": "514c0054-06c1-425a-86f6-73b56a6c0de4",
   "metadata": {},
   "outputs": [],
   "source": [
    "%pwd"
   ]
  },
  {
   "cell_type": "code",
   "execution_count": null,
   "id": "675c1fb3-5a83-493b-bc13-d9d9c93192fe",
   "metadata": {},
   "outputs": [],
   "source": [
    "%cd .."
   ]
  },
  {
   "cell_type": "code",
   "execution_count": null,
   "id": "bdd3b964-02b1-4459-8b56-8ddc373ae09b",
   "metadata": {},
   "outputs": [],
   "source": [
    "# Load all necessary packages\n",
    "from aif360.metrics import BinaryLabelDatasetMetric\n",
    "from aif360.metrics import ClassificationMetric\n",
    "\n",
    "from aif360.algorithms.preprocessing.optim_preproc_helpers.data_preproc_functions import load_preproc_data_adult\n",
    "\n",
    "from aif360.algorithms.inprocessing.exponentiated_gradient_reduction import ExponentiatedGradientReduction\n",
    "\n",
    "from sklearn.linear_model import LogisticRegression\n",
    "from sklearn.preprocessing import MaxAbsScaler\n",
    "from sklearn.metrics import accuracy_score\n",
    "\n",
    "from IPython.display import Markdown, display\n",
    "\n",
    "import numpy as np"
   ]
  },
  {
   "cell_type": "code",
   "execution_count": null,
   "id": "d080b287-09a4-4bd8-9bc9-8d480f40a41f",
   "metadata": {},
   "outputs": [],
   "source": [
    "# Load Wenjie's dataset\n",
    "adult_data = np.load('/Users/ryandevera/data-science/umn_environments/Constrained-Deep-Learning-Survey/data/adult/adult.npz')\n",
    "adult_data"
   ]
  },
  {
   "cell_type": "code",
   "execution_count": null,
   "id": "03ff5f6b-0d8f-400d-8860-b4d5d10215f8",
   "metadata": {},
   "outputs": [],
   "source": [
    "list(adult_data.keys())"
   ]
  },
  {
   "cell_type": "code",
   "execution_count": null,
   "id": "5c418dc5-7f84-4c79-9344-cdf95af14e83",
   "metadata": {},
   "outputs": [],
   "source": [
    "adult_data.files"
   ]
  },
  {
   "cell_type": "code",
   "execution_count": null,
   "id": "6fd6f3d7-6569-47c8-a7ed-33f97fa1d2cb",
   "metadata": {},
   "outputs": [],
   "source": [
    "from aif360.algorithms.preprocessing.optim_preproc_helpers.data_preproc_functions import load_preproc_data_adult"
   ]
  },
  {
   "cell_type": "code",
   "execution_count": null,
   "id": "8ab49719-f426-449e-940e-b8de4e68326b",
   "metadata": {},
   "outputs": [],
   "source": [
    "# Get the dataset and split into train and test\n",
    "dataset_orig = load_preproc_data_adult()\n",
    "\n",
    "privileged_groups = [{'sex': 1}]\n",
    "unprivileged_groups = [{'sex': 0}]\n",
    "\n",
    "np.random.seed(0)\n",
    "dataset_orig_train, dataset_orig_test = dataset_orig.split([0.7], shuffle=True)"
   ]
  },
  {
   "cell_type": "code",
   "execution_count": null,
   "id": "93ca1c5c-3008-481c-b173-72f0e558ed10",
   "metadata": {},
   "outputs": [],
   "source": [
    "type(dataset_orig)"
   ]
  },
  {
   "cell_type": "code",
   "execution_count": null,
   "id": "102cc1aa-a70e-4b48-bf50-5202136816d4",
   "metadata": {},
   "outputs": [],
   "source": [
    "# Metric for the original dataset\n",
    "metric_orig_train = BinaryLabelDatasetMetric(\n",
    "    dataset_orig_train, \n",
    "    unprivileged_groups=unprivileged_groups,\n",
    "    privileged_groups=privileged_groups\n",
    ")\n",
    "display(Markdown(\"#### Original training dataset\"))\n",
    "print(\"Train set: Difference in mean outcomes between unprivileged and privileged groups = %f\" % metric_orig_train.mean_difference())\n",
    "metric_orig_test = BinaryLabelDatasetMetric(\n",
    "    dataset_orig_test, \n",
    "    unprivileged_groups=unprivileged_groups,\n",
    "    privileged_groups=privileged_groups\n",
    ")\n",
    "print(\"Test set: Difference in mean outcomes between unprivileged and privileged groups = %f\" % metric_orig_test.mean_difference())"
   ]
  },
  {
   "cell_type": "code",
   "execution_count": null,
   "id": "dca94ad3-83e7-4a63-83db-d0345e7f79c8",
   "metadata": {},
   "outputs": [],
   "source": [
    "min_max_scaler = MaxAbsScaler()\n",
    "dataset_orig_train.features = min_max_scaler.fit_transform(dataset_orig_train.features)\n",
    "dataset_orig_test.features = min_max_scaler.transform(dataset_orig_test.features)\n",
    "metric_scaled_train = BinaryLabelDatasetMetric(\n",
    "    dataset_orig_train, \n",
    "    unprivileged_groups=unprivileged_groups,\n",
    "    privileged_groups=privileged_groups\n",
    ")\n",
    "display(Markdown(\"#### Scaled dataset - Verify that the scaling does not affect the group label statistics\"))\n",
    "print(\"Train set: Difference in mean outcomes between unprivileged and privileged groups = %f\" % metric_scaled_train.mean_difference())\n",
    "metric_scaled_test = BinaryLabelDatasetMetric(\n",
    "    dataset_orig_test, \n",
    "    unprivileged_groups=unprivileged_groups,\n",
    "    privileged_groups=privileged_groups\n",
    ")\n",
    "print(\"Test set: Difference in mean outcomes between unprivileged and privileged groups = %f\" % metric_scaled_test.mean_difference())"
   ]
  },
  {
   "cell_type": "code",
   "execution_count": null,
   "id": "1e40ecf7-a447-4f8f-8875-7fad95f057f8",
   "metadata": {},
   "outputs": [],
   "source": [
    "# Load our model\n",
    "from cdl_python.core.models import MLP\n",
    "\n",
    "# To use pytorch with sklearn lets use skorch\n",
    "import torch\n",
    "from skorch import NeuralNetBinaryClassifier\n",
    "\n",
    "\n",
    "X_train = dataset_orig_train.features\n",
    "y_train = dataset_orig_train.labels.ravel()\n",
    "\n",
    "mlp_model = MLP(num_features=X_train.shape[1], num_classes=1)\n",
    "mlp_model = mlp_model.to(dtype=torch.double)\n",
    "model = NeuralNetBinaryClassifier(\n",
    "    mlp_model,\n",
    "    train_split=None,\n",
    "    criterion=torch.nn.BCEWithLogitsLoss,\n",
    "    optimizer=torch.optim.Adam,\n",
    "    lr=0.0001,\n",
    "    max_epochs=25,\n",
    "    batch_size=16,\n",
    ")\n",
    "\n",
    "model.fit(X_train, y_train)"
   ]
  },
  {
   "cell_type": "code",
   "execution_count": null,
   "id": "4c281d94-af58-440e-b907-1a893b4f99f1",
   "metadata": {},
   "outputs": [],
   "source": [
    "# model.history[0]['epoch']"
   ]
  },
  {
   "cell_type": "code",
   "execution_count": null,
   "id": "8fd5aaf6-fa94-4683-9fdb-e5fe515abcac",
   "metadata": {},
   "outputs": [],
   "source": [
    "X_test = dataset_orig_test.features\n",
    "y_test = dataset_orig_test.labels.ravel()\n",
    "\n",
    "y_pred = model.predict(X_test)\n",
    "\n",
    "display(Markdown(\"#### Accuracy\"))\n",
    "lr_acc = accuracy_score(y_test, y_pred)\n",
    "print(lr_acc)"
   ]
  },
  {
   "cell_type": "markdown",
   "id": "f35d1f93-edc5-4a17-ab04-bcc14aceb0ab",
   "metadata": {},
   "source": [
    "# Exponentiated Gradient Reduction"
   ]
  },
  {
   "cell_type": "code",
   "execution_count": null,
   "id": "de8f4489-8180-43c8-a1b8-9e3c1c8f9798",
   "metadata": {},
   "outputs": [],
   "source": [
    "# from aif360.sklearn.inprocessing import ExponentiatedGradientReduction"
   ]
  },
  {
   "cell_type": "code",
   "execution_count": null,
   "id": "1e0244df-abd3-4a47-ba78-4aa8845ac72a",
   "metadata": {},
   "outputs": [],
   "source": [
    "# Estimator\n",
    "mlp_model = MLP(num_features=X_train.shape[1], num_classes=1)\n",
    "mlp_model = mlp_model.to(dtype=torch.double)\n",
    "\n",
    "class FairClassifier(NeuralNetBinaryClassifier):\n",
    "    def get_loss(self, y_pred, y_true, X=None, training=False):\n",
    "        y_true = torch.tensor(y_true, dtype=torch.double, device=self.device)\n",
    "        return self.criterion_(y_pred, y_true)\n",
    "\n",
    "# Positive weight\n",
    "num_positives = y_train.sum()\n",
    "num_negatives = (1 - y_train).sum()\n",
    "\n",
    "# Calculate pos_weight\n",
    "pos_weight = torch.tensor(num_negatives / num_positives)\n",
    "\n",
    "estimator = FairClassifier(\n",
    "    mlp_model,\n",
    "    train_split=None,\n",
    "    criterion=torch.nn.BCEWithLogitsLoss(pos_weight=pos_weight),\n",
    "    optimizer=torch.optim.Adam,\n",
    "    lr=0.0001,\n",
    "    max_epochs=1,\n",
    "    batch_size=len(X_train),\n",
    ")\n",
    "\n",
    "# from sklearn.linear_model import LogisticRegression\n",
    "# estimator = LogisticRegression(solver='lbfgs', max_iter=1000)"
   ]
  },
  {
   "cell_type": "code",
   "execution_count": null,
   "id": "10f4e3c2-e02d-4d30-b26a-e8c1d1c48dff",
   "metadata": {},
   "outputs": [],
   "source": [
    "np.random.seed(0) #need for reproducibility\n",
    "exp_grad_red = ExponentiatedGradientReduction(\n",
    "    estimator=estimator, \n",
    "    constraints=\"EqualizedOdds\",\n",
    "    drop_prot_attr=False\n",
    ")\n",
    "exp_grad_red.fit(dataset_orig_train)\n",
    "exp_grad_red_pred = exp_grad_red.predict(dataset_orig_test)"
   ]
  },
  {
   "cell_type": "code",
   "execution_count": null,
   "id": "1cd8794a-00f2-46d9-8338-ca0aa26c6350",
   "metadata": {},
   "outputs": [],
   "source": [
    "metric_test = ClassificationMetric(\n",
    "    dataset_orig_test, \n",
    "    exp_grad_red_pred,\n",
    "    unprivileged_groups=unprivileged_groups,\n",
    "    privileged_groups=privileged_groups\n",
    ")\n",
    "\n",
    "display(Markdown(\"#### Accuracy\"))\n",
    "egr_acc = metric_test.accuracy()\n",
    "print(egr_acc)\n",
    "\n",
    "display(Markdown(\"#### Average odds difference\"))\n",
    "egr_aod = metric_test.average_odds_difference()\n",
    "print(egr_aod)"
   ]
  },
  {
   "cell_type": "code",
   "execution_count": null,
   "id": "e6a28788-95bd-43b1-86ef-667ed3a4eb09",
   "metadata": {},
   "outputs": [],
   "source": []
  }
 ],
 "metadata": {
  "kernelspec": {
   "display_name": "cdl-survey",
   "language": "python",
   "name": "cdl-survey"
  },
  "language_info": {
   "codemirror_mode": {
    "name": "ipython",
    "version": 3
   },
   "file_extension": ".py",
   "mimetype": "text/x-python",
   "name": "python",
   "nbconvert_exporter": "python",
   "pygments_lexer": "ipython3",
   "version": "3.9.11"
  }
 },
 "nbformat": 4,
 "nbformat_minor": 5
}
