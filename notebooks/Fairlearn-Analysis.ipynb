{
 "cells": [
  {
   "cell_type": "code",
   "execution_count": null,
   "id": "dressed-specification",
   "metadata": {},
   "outputs": [],
   "source": [
    "%pwd"
   ]
  },
  {
   "cell_type": "code",
   "execution_count": 2,
   "id": "ideal-behalf",
   "metadata": {},
   "outputs": [
    {
     "name": "stdout",
     "output_type": "stream",
     "text": [
      "/panfs/jay/groups/15/jusun/dever120/Constrained-Deep-Learning-Survey\n"
     ]
    }
   ],
   "source": [
    "%cd .."
   ]
  },
  {
   "cell_type": "code",
   "execution_count": 3,
   "id": "established-jenny",
   "metadata": {},
   "outputs": [
    {
     "name": "stderr",
     "output_type": "stream",
     "text": [
      "UsageError: Line magic function `%` not found.\n"
     ]
    }
   ],
   "source": [
    "import matplotlib.pyplot as plt\n",
    "import numpy as np\n",
    "import pandas as pd\n",
    "\n",
    "% matplotlib.inline"
   ]
  },
  {
   "cell_type": "markdown",
   "id": "proprietary-trauma",
   "metadata": {},
   "source": [
    "# Fairlearn Experiments\n",
    "\n",
    "One of the packages we wanted to evaluate for our constrained deep learning survey is the `fairlearn` package that has the goal of using contraints to train a more fair. model. The code saves the results as a `.npz` file with the following keys:\n",
    "\n",
    "-  diff: This is the difference of the MSE of the two groups, male and female. It is recorded at the end of each epoch during training for train and test splits.\n",
    "-  f: f is the objective function value during training for train and test splits.\n",
    "-  accuracy_diff: `accuracy_diff` is the difference of accuracies between the two groups, male and female. This is recorded at the end of each epoch during training for train and test splits.\n",
    "- accuracy: The overall accuracy recorded during training for train and test splits"
   ]
  },
  {
   "cell_type": "code",
   "execution_count": null,
   "id": "invalid-burton",
   "metadata": {},
   "outputs": [],
   "source": [
    "data_dir = '/home/jusun/dever120/Constrained-Deep-Learning-Survey/data/fairlearn_results_0.005.npz'\n",
    "fairlearn_data = np.load(data_dir)"
   ]
  },
  {
   "cell_type": "code",
   "execution_count": null,
   "id": "vital-stress",
   "metadata": {},
   "outputs": [],
   "source": [
    "fairlearn_data.keys()"
   ]
  },
  {
   "cell_type": "markdown",
   "id": "confirmed-buyer",
   "metadata": {},
   "source": [
    "# Load all of the data as dataframes\n",
    "\n",
    "The first thing we will do for plotting is load the data as dataframes."
   ]
  },
  {
   "cell_type": "code",
   "execution_count": null,
   "id": "adjustable-frame",
   "metadata": {},
   "outputs": [],
   "source": [
    "# diff / constraint\n",
    "constraint_df = pd.DataFrame(fairlearn_data['diff'], columns=['train', 'test'])\n",
    "\n",
    "# accuracy disparity\n",
    "acc_disp_df = pd.DataFrame(fairlearn_data['accuracy_diff'], columns=['train', 'test'])\n",
    "\n",
    "# objective function\n",
    "obj_df = pd.DataFrame(fairlearn_data['f'], columns=['train', 'test'])\n",
    "\n",
    "# accuracy\n",
    "acc_df = pd.DataFrame(fairlearn_data['accuracy'], columns=['train', 'test'])"
   ]
  },
  {
   "cell_type": "markdown",
   "id": "external-pixel",
   "metadata": {},
   "source": [
    "# Plotting the results\n",
    "\n",
    "We will keep the plotting of the results consistent with other plots we have encountred in this project so far. Each experiment has an `r` value, that is the value on the constraint during training, so we will have difference plots for difference values of `r`. This notebook just shows how to interact with the data.\n",
    "\n",
    "Each dataset in the dictionary has two columns, `train` and `test`, respectively."
   ]
  },
  {
   "cell_type": "code",
   "execution_count": null,
   "id": "rural-celtic",
   "metadata": {},
   "outputs": [],
   "source": [
    "# set up a figure and axes for the plot\n",
    "fig, axes = plt.subplots(4, 1, figsize=(5, 10))\n",
    "axes = axes.flatten()\n",
    "\n",
    "# Plot the constraints\n",
    "ax1 = axes[0]\n",
    "constraint_df.plot(ax=ax1)\n",
    "\n",
    "# axis config\n",
    "ax1.set_xticks([])\n",
    "ax1.set_ylabel('Feasibility')\n",
    "ax1.set_title('Fairlearn')\n",
    "\n",
    "# Plot the accuracy disparity\n",
    "ax2 = axes[1]\n",
    "acc_disp_df.plot(ax=ax2)\n",
    "\n",
    "# axis config\n",
    "ax2.set_xticks([])\n",
    "ax2.set_ylabel('Accuracy Disparity')\n",
    "\n",
    "# Plot the objective values\n",
    "ax3 = axes[2]\n",
    "obj_df.plot(ax=ax3)\n",
    "\n",
    "# axis config\n",
    "ax3.set_xticks([])\n",
    "ax3.set_ylabel('Objective Loss')\n",
    "\n",
    "# Plot the accuracy\n",
    "ax4 = axes[3]\n",
    "acc_df.plot(ax=ax4)\n",
    "\n",
    "# axis config\n",
    "ax4.set_xticks([])\n",
    "ax4.set_ylabel('Objective Accuracy')"
   ]
  },
  {
   "cell_type": "code",
   "execution_count": null,
   "id": "unavailable-migration",
   "metadata": {},
   "outputs": [],
   "source": []
  }
 ],
 "metadata": {
  "kernelspec": {
   "display_name": "deeplifting",
   "language": "python",
   "name": "deeplifting"
  },
  "language_info": {
   "codemirror_mode": {
    "name": "ipython",
    "version": 3
   },
   "file_extension": ".py",
   "mimetype": "text/x-python",
   "name": "python",
   "nbconvert_exporter": "python",
   "pygments_lexer": "ipython3",
   "version": "3.9.16"
  }
 },
 "nbformat": 4,
 "nbformat_minor": 5
}
