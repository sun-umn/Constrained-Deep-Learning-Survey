{
 "cells": [
  {
   "cell_type": "code",
   "execution_count": 1,
   "id": "fd0431f6-5b42-4b1a-80b0-5cdc6975fdfc",
   "metadata": {},
   "outputs": [
    {
     "data": {
      "text/plain": [
       "'/Users/ryandevera/data-science/umn_environments/Constrained-Deep-Learning-Survey/notebooks'"
      ]
     },
     "execution_count": 1,
     "metadata": {},
     "output_type": "execute_result"
    }
   ],
   "source": [
    "%pwd"
   ]
  },
  {
   "cell_type": "code",
   "execution_count": 2,
   "id": "34e2d25d-7508-44a0-b72a-d63f29721033",
   "metadata": {},
   "outputs": [
    {
     "name": "stdout",
     "output_type": "stream",
     "text": [
      "/Users/ryandevera/data-science/umn_environments/Constrained-Deep-Learning-Survey\n"
     ]
    },
    {
     "name": "stderr",
     "output_type": "stream",
     "text": [
      "/Users/ryandevera/.virtualenvs/cdl-survey/lib/python3.9/site-packages/IPython/core/magics/osm.py:417: UserWarning: using dhist requires you to install the `pickleshare` library.\n",
      "  self.shell.db['dhist'] = compress_dhist(dhist)[-100:]\n"
     ]
    }
   ],
   "source": [
    "%cd .."
   ]
  },
  {
   "cell_type": "code",
   "execution_count": 3,
   "id": "a970a1c5-2e1a-4811-8fa9-c9a0d3786298",
   "metadata": {},
   "outputs": [],
   "source": [
    "import numpy as np\n",
    "import pandas as pd\n",
    "\n",
    "from cdlsurvey.data import get_data, discretize_continuous_columns, get_data"
   ]
  },
  {
   "cell_type": "code",
   "execution_count": 5,
   "id": "af4b7c87-1b36-43e7-90a1-ae317ecd36e8",
   "metadata": {},
   "outputs": [],
   "source": [
    "# Define the columns that we want to use\n",
    "# Categorical columns\n",
    "CATEGORICAL_COLUMNS = [\n",
    "    'workclass',\n",
    "    'education',\n",
    "    'marital_status',\n",
    "    'occupation',\n",
    "    'relationship',\n",
    "    'race',\n",
    "    'gender',\n",
    "    'native_country',\n",
    "]\n",
    "\n",
    "# Continuous columns\n",
    "CONTINUOUS_COLUMNS = [\n",
    "    'age',\n",
    "    'capital_gain',\n",
    "    'capital_loss',\n",
    "    'hours_per_week',\n",
    "    'education_num',\n",
    "]\n",
    "\n",
    "# All columns\n",
    "COLUMNS = [\n",
    "    'age',\n",
    "    'workclass',\n",
    "    'fnlwgt',\n",
    "    'education',\n",
    "    'education_num',\n",
    "    'marital_status',\n",
    "    'occupation',\n",
    "    'relationship',\n",
    "    'race',\n",
    "    'gender',\n",
    "    'capital_gain',\n",
    "    'capital_loss',\n",
    "    'hours_per_week',\n",
    "    'native_country',\n",
    "    'income_bracket',\n",
    "]\n",
    "\n",
    "# label column\n",
    "LABEL_COLUMN = 'label'"
   ]
  },
  {
   "cell_type": "code",
   "execution_count": 6,
   "id": "e8c929c3-27ff-43d6-83e6-92832b0bf5c5",
   "metadata": {},
   "outputs": [],
   "source": [
    "train_filename = 'https://archive.ics.uci.edu/ml/machine-learning-databases/adult/adult.data'  # noqa\n",
    "test_filename = 'https://archive.ics.uci.edu/ml/machine-learning-databases/adult/adult.test'  # noqa\n",
    "\n",
    "# Get the train and test data\n",
    "train_df = pd.read_csv(train_filename, names=COLUMNS, skipinitialspace=True)\n",
    "test_df = pd.read_csv(test_filename, names=COLUMNS, skipinitialspace=True, skiprows=1)\n",
    "\n",
    "# Create the label column - the label is for the income bracket column\n",
    "# and we identify anyone who makes over $50k\n",
    "train_df[LABEL_COLUMN] = (\n",
    "    train_df['income_bracket'].apply(lambda x: x == '>50K')\n",
    ").astype(int)\n",
    "test_df[LABEL_COLUMN] = (\n",
    "    test_df['income_bracket'].apply(lambda x: x == '>50K')\n",
    ").astype(int)"
   ]
  },
  {
   "cell_type": "code",
   "execution_count": 10,
   "id": "2722169d-bcce-49e9-8dbf-5da06dabfc10",
   "metadata": {},
   "outputs": [
    {
     "data": {
      "text/plain": [
       "<Axes: ylabel='race'>"
      ]
     },
     "execution_count": 10,
     "metadata": {},
     "output_type": "execute_result"
    },
    {
     "data": {
      "image/png": "[encoded data removed]",
      "text/plain": [
       "<Figure size 640x480 with 1 Axes>"
      ]
     },
     "metadata": {},
     "output_type": "display_data"
    }
   ],
   "source": [
    "# Let's look at some of the general patterns against the label of race and gender\n",
    "# we want to explore fairness\n",
    "train_df['race'].value_counts().sort_values().plot(kind='barh')"
   ]
  },
  {
   "cell_type": "code",
   "execution_count": 11,
   "id": "356db544-a4a2-410a-9452-22768f7b77c3",
   "metadata": {},
   "outputs": [
    {
     "data": {
      "text/plain": [
       "race\n",
       "Amer-Indian-Eskimo    0.115756\n",
       "Asian-Pac-Islander    0.265640\n",
       "Black                 0.123880\n",
       "Other                 0.092251\n",
       "White                 0.255860\n",
       "Name: label, dtype: float64"
      ]
     },
     "execution_count": 11,
     "metadata": {},
     "output_type": "execute_result"
    }
   ],
   "source": [
    "train_df.groupby('race')['label'].mean()"
   ]
  },
  {
   "cell_type": "code",
   "execution_count": null,
   "id": "22fa9932-311e-493d-851c-a3d0e8aa6d72",
   "metadata": {},
   "outputs": [],
   "source": [
    "# Final dataset\n",
    "train_df, test_df, feature_names = get_data()"
   ]
  },
  {
   "cell_type": "code",
   "execution_count": null,
   "id": "eedb36ab-f65b-4305-94f5-64711fa4efdb",
   "metadata": {},
   "outputs": [],
   "source": []
  },
  {
   "cell_type": "code",
   "execution_count": null,
   "id": "2ed40fbd-24bb-413a-808d-f399d40cc130",
   "metadata": {},
   "outputs": [],
   "source": []
  }
 ],
 "metadata": {
  "kernelspec": {
   "display_name": "cdl-survey",
   "language": "python",
   "name": "cdl-survey"
  },
  "language_info": {
   "codemirror_mode": {
    "name": "ipython",
    "version": 3
   },
   "file_extension": ".py",
   "mimetype": "text/x-python",
   "name": "python",
   "nbconvert_exporter": "python",
   "pygments_lexer": "ipython3",
   "version": "3.9.11"
  }
 },
 "nbformat": 4,
 "nbformat_minor": 5
}
