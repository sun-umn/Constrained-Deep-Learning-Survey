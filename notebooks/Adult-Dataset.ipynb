{
 "cells": [
  {
   "cell_type": "code",
   "execution_count": 1,
   "id": "fd0431f6-5b42-4b1a-80b0-5cdc6975fdfc",
   "metadata": {},
   "outputs": [
    {
     "data": {
      "text/plain": [
       "'/Users/ryandevera/data-science/umn_environments/Constrained-Deep-Learning-Survey/notebooks'"
      ]
     },
     "execution_count": 1,
     "metadata": {},
     "output_type": "execute_result"
    }
   ],
   "source": [
    "%pwd"
   ]
  },
  {
   "cell_type": "code",
   "execution_count": 2,
   "id": "34e2d25d-7508-44a0-b72a-d63f29721033",
   "metadata": {},
   "outputs": [
    {
     "name": "stdout",
     "output_type": "stream",
     "text": [
      "/Users/ryandevera/data-science/umn_environments/Constrained-Deep-Learning-Survey\n"
     ]
    },
    {
     "name": "stderr",
     "output_type": "stream",
     "text": [
      "/Users/ryandevera/.virtualenvs/cdl-survey/lib/python3.9/site-packages/IPython/core/magics/osm.py:417: UserWarning: using dhist requires you to install the `pickleshare` library.\n",
      "  self.shell.db['dhist'] = compress_dhist(dhist)[-100:]\n"
     ]
    }
   ],
   "source": [
    "%cd .."
   ]
  },
  {
   "cell_type": "code",
   "execution_count": 3,
   "id": "a970a1c5-2e1a-4811-8fa9-c9a0d3786298",
   "metadata": {},
   "outputs": [],
   "source": [
    "import numpy as np\n",
    "import pandas as pd\n",
    "\n",
    "from cdlsurvey.data import get_data, discretize_continuous_columns, get_data()"
   ]
  },
  {
   "cell_type": "code",
   "execution_count": 4,
   "id": "98cf353a-e7c4-41ae-9014-333fe2979e71",
   "metadata": {},
   "outputs": [],
   "source": [
    "# Define the columns that we want to use\n",
    "# Categorical columns\n",
    "CATEGORICAL_COLUMNS = [\n",
    "    'workclass',\n",
    "    'education',\n",
    "    'marital_status',\n",
    "    'occupation',\n",
    "    'relationship',\n",
    "    'race',\n",
    "    'gender',\n",
    "    'native_country',\n",
    "]\n",
    "\n",
    "# Continuous columns\n",
    "CONTINUOUS_COLUMNS = [\n",
    "    'age',\n",
    "    'capital_gain',\n",
    "    'capital_loss',\n",
    "    'hours_per_week',\n",
    "    'education_num',\n",
    "]\n",
    "\n",
    "# All columns\n",
    "COLUMNS = [\n",
    "    'age',\n",
    "    'workclass',\n",
    "    'fnlwgt',\n",
    "    'education',\n",
    "    'education_num',\n",
    "    'marital_status',\n",
    "    'occupation',\n",
    "    'relationship',\n",
    "    'race',\n",
    "    'gender',\n",
    "    'capital_gain',\n",
    "    'capital_loss',\n",
    "    'hours_per_week',\n",
    "    'native_country',\n",
    "    'income_bracket',\n",
    "]\n",
    "\n",
    "# label column\n",
    "LABEL_COLUMN = 'label'"
   ]
  },
  {
   "cell_type": "code",
   "execution_count": 8,
   "id": "e8c929c3-27ff-43d6-83e6-92832b0bf5c5",
   "metadata": {},
   "outputs": [],
   "source": [
    "train_filename = 'https://archive.ics.uci.edu/ml/machine-learning-databases/adult/adult.data'  # noqa\n",
    "test_filename = 'https://archive.ics.uci.edu/ml/machine-learning-databases/adult/adult.test'  # noqa\n",
    "\n",
    "# Get the train and test data\n",
    "train_df = pd.read_csv(train_filename, names=COLUMNS, skipinitialspace=True)\n",
    "test_df = pd.read_csv(test_filename, names=COLUMNS, skipinitialspace=True, skiprows=1)"
   ]
  },
  {
   "cell_type": "code",
   "execution_count": 9,
   "id": "0a4e456f-ee4b-43e2-b4a4-7b68ca3abab8",
   "metadata": {},
   "outputs": [
    {
     "data": {
      "text/plain": [
       "(array([39, 50, 38, 53, 28, 37, 49, 52, 31, 42, 30, 23, 32, 40, 34, 25, 43,\n",
       "        54, 35, 59, 56, 19, 20, 45, 22, 48, 21, 24, 57, 44, 41, 29, 18, 47,\n",
       "        46, 36, 79, 27, 67, 33, 76, 17, 55, 61, 70, 64, 71, 68, 66, 51, 58,\n",
       "        26, 60, 90, 75, 65, 77, 62, 63, 80, 72, 74, 69, 73, 81, 78, 88, 82,\n",
       "        83, 84, 85, 86, 87]),\n",
       " array([25, 38, 28, 44, 18, 34, 29, 63, 24, 55, 65, 36, 26, 58, 48, 43, 20,\n",
       "        37, 40, 72, 45, 22, 23, 54, 32, 46, 56, 17, 39, 52, 21, 42, 33, 30,\n",
       "        47, 41, 19, 69, 50, 31, 59, 49, 51, 27, 57, 61, 64, 79, 73, 53, 77,\n",
       "        80, 62, 35, 68, 66, 75, 60, 67, 71, 70, 90, 81, 74, 78, 82, 83, 85,\n",
       "        76, 84, 89, 88, 87]))"
      ]
     },
     "execution_count": 9,
     "metadata": {},
     "output_type": "execute_result"
    }
   ],
   "source": [
    "train_df['age'].unique(), test_df['age'].unique()"
   ]
  },
  {
   "cell_type": "code",
   "execution_count": 21,
   "id": "9bcc6c0c-687b-48b3-a454-a472dfb68bf0",
   "metadata": {},
   "outputs": [],
   "source": [
    "_, bins_quantized = pd.qcut(train_df['age'], 4, retbins=True, labels=False)"
   ]
  },
  {
   "cell_type": "code",
   "execution_count": 22,
   "id": "5f0f541b-7358-4474-b55b-111ccf0c7a96",
   "metadata": {},
   "outputs": [
    {
     "data": {
      "text/html": [
       "<div>\n",
       "<style scoped>\n",
       "    .dataframe tbody tr th:only-of-type {\n",
       "        vertical-align: middle;\n",
       "    }\n",
       "\n",
       "    .dataframe tbody tr th {\n",
       "        vertical-align: top;\n",
       "    }\n",
       "\n",
       "    .dataframe thead th {\n",
       "        text-align: right;\n",
       "    }\n",
       "</style>\n",
       "<table border=\"1\" class=\"dataframe\">\n",
       "  <thead>\n",
       "    <tr style=\"text-align: right;\">\n",
       "      <th></th>\n",
       "      <th>age</th>\n",
       "      <th>workclass</th>\n",
       "      <th>fnlwgt</th>\n",
       "      <th>education</th>\n",
       "      <th>education_num</th>\n",
       "      <th>marital_status</th>\n",
       "      <th>occupation</th>\n",
       "      <th>relationship</th>\n",
       "      <th>race</th>\n",
       "      <th>gender</th>\n",
       "      <th>capital_gain</th>\n",
       "      <th>capital_loss</th>\n",
       "      <th>hours_per_week</th>\n",
       "      <th>native_country</th>\n",
       "      <th>income_bracket</th>\n",
       "    </tr>\n",
       "  </thead>\n",
       "  <tbody>\n",
       "    <tr>\n",
       "      <th>106</th>\n",
       "      <td>17</td>\n",
       "      <td>?</td>\n",
       "      <td>304873</td>\n",
       "      <td>10th</td>\n",
       "      <td>6</td>\n",
       "      <td>Never-married</td>\n",
       "      <td>?</td>\n",
       "      <td>Own-child</td>\n",
       "      <td>White</td>\n",
       "      <td>Female</td>\n",
       "      <td>34095</td>\n",
       "      <td>0</td>\n",
       "      <td>32</td>\n",
       "      <td>United-States</td>\n",
       "      <td>&lt;=50K</td>\n",
       "    </tr>\n",
       "    <tr>\n",
       "      <th>209</th>\n",
       "      <td>17</td>\n",
       "      <td>Private</td>\n",
       "      <td>65368</td>\n",
       "      <td>11th</td>\n",
       "      <td>7</td>\n",
       "      <td>Never-married</td>\n",
       "      <td>Sales</td>\n",
       "      <td>Own-child</td>\n",
       "      <td>White</td>\n",
       "      <td>Female</td>\n",
       "      <td>0</td>\n",
       "      <td>0</td>\n",
       "      <td>12</td>\n",
       "      <td>United-States</td>\n",
       "      <td>&lt;=50K</td>\n",
       "    </tr>\n",
       "    <tr>\n",
       "      <th>262</th>\n",
       "      <td>17</td>\n",
       "      <td>Private</td>\n",
       "      <td>245918</td>\n",
       "      <td>11th</td>\n",
       "      <td>7</td>\n",
       "      <td>Never-married</td>\n",
       "      <td>Other-service</td>\n",
       "      <td>Own-child</td>\n",
       "      <td>White</td>\n",
       "      <td>Male</td>\n",
       "      <td>0</td>\n",
       "      <td>0</td>\n",
       "      <td>12</td>\n",
       "      <td>United-States</td>\n",
       "      <td>&lt;=50K</td>\n",
       "    </tr>\n",
       "    <tr>\n",
       "      <th>271</th>\n",
       "      <td>17</td>\n",
       "      <td>Private</td>\n",
       "      <td>191260</td>\n",
       "      <td>9th</td>\n",
       "      <td>5</td>\n",
       "      <td>Never-married</td>\n",
       "      <td>Other-service</td>\n",
       "      <td>Own-child</td>\n",
       "      <td>White</td>\n",
       "      <td>Male</td>\n",
       "      <td>1055</td>\n",
       "      <td>0</td>\n",
       "      <td>24</td>\n",
       "      <td>United-States</td>\n",
       "      <td>&lt;=50K</td>\n",
       "    </tr>\n",
       "    <tr>\n",
       "      <th>335</th>\n",
       "      <td>17</td>\n",
       "      <td>Private</td>\n",
       "      <td>270942</td>\n",
       "      <td>5th-6th</td>\n",
       "      <td>3</td>\n",
       "      <td>Never-married</td>\n",
       "      <td>Other-service</td>\n",
       "      <td>Other-relative</td>\n",
       "      <td>White</td>\n",
       "      <td>Male</td>\n",
       "      <td>0</td>\n",
       "      <td>0</td>\n",
       "      <td>48</td>\n",
       "      <td>Mexico</td>\n",
       "      <td>&lt;=50K</td>\n",
       "    </tr>\n",
       "    <tr>\n",
       "      <th>...</th>\n",
       "      <td>...</td>\n",
       "      <td>...</td>\n",
       "      <td>...</td>\n",
       "      <td>...</td>\n",
       "      <td>...</td>\n",
       "      <td>...</td>\n",
       "      <td>...</td>\n",
       "      <td>...</td>\n",
       "      <td>...</td>\n",
       "      <td>...</td>\n",
       "      <td>...</td>\n",
       "      <td>...</td>\n",
       "      <td>...</td>\n",
       "      <td>...</td>\n",
       "      <td>...</td>\n",
       "    </tr>\n",
       "    <tr>\n",
       "      <th>31772</th>\n",
       "      <td>17</td>\n",
       "      <td>?</td>\n",
       "      <td>256173</td>\n",
       "      <td>10th</td>\n",
       "      <td>6</td>\n",
       "      <td>Never-married</td>\n",
       "      <td>?</td>\n",
       "      <td>Own-child</td>\n",
       "      <td>White</td>\n",
       "      <td>Female</td>\n",
       "      <td>0</td>\n",
       "      <td>0</td>\n",
       "      <td>15</td>\n",
       "      <td>United-States</td>\n",
       "      <td>&lt;=50K</td>\n",
       "    </tr>\n",
       "    <tr>\n",
       "      <th>31864</th>\n",
       "      <td>17</td>\n",
       "      <td>Private</td>\n",
       "      <td>214787</td>\n",
       "      <td>12th</td>\n",
       "      <td>8</td>\n",
       "      <td>Never-married</td>\n",
       "      <td>Adm-clerical</td>\n",
       "      <td>Own-child</td>\n",
       "      <td>White</td>\n",
       "      <td>Female</td>\n",
       "      <td>0</td>\n",
       "      <td>0</td>\n",
       "      <td>25</td>\n",
       "      <td>United-States</td>\n",
       "      <td>&lt;=50K</td>\n",
       "    </tr>\n",
       "    <tr>\n",
       "      <th>31959</th>\n",
       "      <td>17</td>\n",
       "      <td>Private</td>\n",
       "      <td>24090</td>\n",
       "      <td>HS-grad</td>\n",
       "      <td>9</td>\n",
       "      <td>Never-married</td>\n",
       "      <td>Exec-managerial</td>\n",
       "      <td>Own-child</td>\n",
       "      <td>White</td>\n",
       "      <td>Female</td>\n",
       "      <td>0</td>\n",
       "      <td>0</td>\n",
       "      <td>35</td>\n",
       "      <td>United-States</td>\n",
       "      <td>&lt;=50K</td>\n",
       "    </tr>\n",
       "    <tr>\n",
       "      <th>32282</th>\n",
       "      <td>17</td>\n",
       "      <td>Private</td>\n",
       "      <td>311907</td>\n",
       "      <td>11th</td>\n",
       "      <td>7</td>\n",
       "      <td>Never-married</td>\n",
       "      <td>Other-service</td>\n",
       "      <td>Own-child</td>\n",
       "      <td>White</td>\n",
       "      <td>Male</td>\n",
       "      <td>0</td>\n",
       "      <td>0</td>\n",
       "      <td>25</td>\n",
       "      <td>United-States</td>\n",
       "      <td>&lt;=50K</td>\n",
       "    </tr>\n",
       "    <tr>\n",
       "      <th>32447</th>\n",
       "      <td>17</td>\n",
       "      <td>Private</td>\n",
       "      <td>117798</td>\n",
       "      <td>10th</td>\n",
       "      <td>6</td>\n",
       "      <td>Never-married</td>\n",
       "      <td>Other-service</td>\n",
       "      <td>Own-child</td>\n",
       "      <td>White</td>\n",
       "      <td>Male</td>\n",
       "      <td>0</td>\n",
       "      <td>0</td>\n",
       "      <td>20</td>\n",
       "      <td>United-States</td>\n",
       "      <td>&lt;=50K</td>\n",
       "    </tr>\n",
       "  </tbody>\n",
       "</table>\n",
       "<p>395 rows × 15 columns</p>\n",
       "</div>"
      ],
      "text/plain": [
       "       age workclass  fnlwgt education  education_num marital_status  \\\n",
       "106     17         ?  304873      10th              6  Never-married   \n",
       "209     17   Private   65368      11th              7  Never-married   \n",
       "262     17   Private  245918      11th              7  Never-married   \n",
       "271     17   Private  191260       9th              5  Never-married   \n",
       "335     17   Private  270942   5th-6th              3  Never-married   \n",
       "...    ...       ...     ...       ...            ...            ...   \n",
       "31772   17         ?  256173      10th              6  Never-married   \n",
       "31864   17   Private  214787      12th              8  Never-married   \n",
       "31959   17   Private   24090   HS-grad              9  Never-married   \n",
       "32282   17   Private  311907      11th              7  Never-married   \n",
       "32447   17   Private  117798      10th              6  Never-married   \n",
       "\n",
       "            occupation    relationship   race  gender  capital_gain  \\\n",
       "106                  ?       Own-child  White  Female         34095   \n",
       "209              Sales       Own-child  White  Female             0   \n",
       "262      Other-service       Own-child  White    Male             0   \n",
       "271      Other-service       Own-child  White    Male          1055   \n",
       "335      Other-service  Other-relative  White    Male             0   \n",
       "...                ...             ...    ...     ...           ...   \n",
       "31772                ?       Own-child  White  Female             0   \n",
       "31864     Adm-clerical       Own-child  White  Female             0   \n",
       "31959  Exec-managerial       Own-child  White  Female             0   \n",
       "32282    Other-service       Own-child  White    Male             0   \n",
       "32447    Other-service       Own-child  White    Male             0   \n",
       "\n",
       "       capital_loss  hours_per_week native_country income_bracket  \n",
       "106               0              32  United-States          <=50K  \n",
       "209               0              12  United-States          <=50K  \n",
       "262               0              12  United-States          <=50K  \n",
       "271               0              24  United-States          <=50K  \n",
       "335               0              48         Mexico          <=50K  \n",
       "...             ...             ...            ...            ...  \n",
       "31772             0              15  United-States          <=50K  \n",
       "31864             0              25  United-States          <=50K  \n",
       "31959             0              35  United-States          <=50K  \n",
       "32282             0              25  United-States          <=50K  \n",
       "32447             0              20  United-States          <=50K  \n",
       "\n",
       "[395 rows x 15 columns]"
      ]
     },
     "execution_count": 22,
     "metadata": {},
     "output_type": "execute_result"
    }
   ],
   "source": [
    "train_df.loc[pd.cut(train_df['age'], bins_quantized).isnull()]"
   ]
  },
  {
   "cell_type": "code",
   "execution_count": 25,
   "id": "93d764f5-210b-4d84-a6cd-9bdb33d64d8e",
   "metadata": {},
   "outputs": [
    {
     "data": {
      "text/plain": [
       "array([2, 3, 0, 1])"
      ]
     },
     "execution_count": 25,
     "metadata": {},
     "output_type": "execute_result"
    }
   ],
   "source": [
    "pd.cut(train_df['age'], bins_quantized, labels=False, include_lowest=True).unique()"
   ]
  },
  {
   "cell_type": "code",
   "execution_count": 26,
   "id": "9f93a8c1-2f58-4907-b913-1353030a5bdb",
   "metadata": {},
   "outputs": [
    {
     "data": {
      "text/plain": [
       "array([0, 2, 1, 3])"
      ]
     },
     "execution_count": 26,
     "metadata": {},
     "output_type": "execute_result"
    }
   ],
   "source": [
    "pd.cut(test_df['age'], bins_quantized, labels=False, include_lowest=True).unique()"
   ]
  },
  {
   "cell_type": "code",
   "execution_count": null,
   "id": "22fa9932-311e-493d-851c-a3d0e8aa6d72",
   "metadata": {},
   "outputs": [],
   "source": [
    "get_data"
   ]
  }
 ],
 "metadata": {
  "kernelspec": {
   "display_name": "cdl-survey",
   "language": "python",
   "name": "cdl-survey"
  },
  "language_info": {
   "codemirror_mode": {
    "name": "ipython",
    "version": 3
   },
   "file_extension": ".py",
   "mimetype": "text/x-python",
   "name": "python",
   "nbconvert_exporter": "python",
   "pygments_lexer": "ipython3",
   "version": "3.9.11"
  }
 },
 "nbformat": 4,
 "nbformat_minor": 5
}
